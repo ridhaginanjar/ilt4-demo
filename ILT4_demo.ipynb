{
  "nbformat": 4,
  "nbformat_minor": 0,
  "metadata": {
    "colab": {
      "provenance": [],
      "authorship_tag": "ABX9TyNgsZNDyG6lqM4jmVMBeLNu"
    },
    "kernelspec": {
      "name": "python3",
      "display_name": "Python 3"
    },
    "language_info": {
      "name": "python"
    }
  },
  "cells": [
    {
      "cell_type": "code",
      "source": [
        "!pip install pymysql"
      ],
      "metadata": {
        "id": "gWB-JCrP3u0Q"
      },
      "execution_count": null,
      "outputs": []
    },
    {
      "cell_type": "code",
      "source": [
        "import os\n",
        "import pymysql\n",
        "import pandas as pd\n",
        "from sqlalchemy import create_engine"
      ],
      "metadata": {
        "id": "na6JjivwYziN"
      },
      "execution_count": null,
      "outputs": []
    },
    {
      "cell_type": "code",
      "source": [
        "file_name = \"{Define Your file name and format type in here}\"\n",
        "url = \"{Your File link in Cloud Storage}\""
      ],
      "metadata": {
        "id": "bLRd_H5xaA0T"
      },
      "execution_count": null,
      "outputs": []
    },
    {
      "cell_type": "code",
      "source": [
        "# Download Dataset from Cloud Storage\n",
        "os.system(f\"wget { url } -O {file_name}\")"
      ],
      "metadata": {
        "id": "TZn9SW0_q5s-"
      },
      "execution_count": null,
      "outputs": []
    },
    {
      "cell_type": "code",
      "source": [
        "#Show Dataset\n",
        "df = pd.read_csv('{Your file name and format type}')\n",
        "df"
      ],
      "metadata": {
        "id": "RaIzavzfbo27"
      },
      "execution_count": null,
      "outputs": []
    },
    {
      "cell_type": "code",
      "source": [
        "#Connect to Cloud SQL\n",
        "#TODO 1\n",
        "username = \"{username Users Cloud SQL}\"\n",
        "password = \"{password Users Cloud SQL}\"\n",
        "host = \"{Public IP Cloud SQL>\"\n",
        "database = \"{Databases Name}\""
      ],
      "metadata": {
        "id": "y9rgmB75zUdX"
      },
      "execution_count": null,
      "outputs": []
    },
    {
      "cell_type": "code",
      "source": [
        "connection_string = f\"mysql+pymysql://{username}:{password}@{host}/{database}\"\n",
        "engine = create_engine(connection_string)"
      ],
      "metadata": {
        "id": "x6QZnj4dcS3P"
      },
      "execution_count": null,
      "outputs": []
    },
    {
      "cell_type": "code",
      "source": [
        "#Connecting Engine\n",
        "engine.connect()"
      ],
      "metadata": {
        "id": "vAN7zZnh4Bnc"
      },
      "execution_count": null,
      "outputs": []
    },
    {
      "cell_type": "code",
      "source": [
        "#TODO 2\n",
        "table_name = '{Table Name}'"
      ],
      "metadata": {
        "id": "W4JmDV2N4FrL"
      },
      "execution_count": null,
      "outputs": []
    },
    {
      "cell_type": "code",
      "source": [
        "#Push without Data to Cloud SQL\n",
        "df.head(n=0).to_sql(name=table_name, con=engine, if_exists='replace')"
      ],
      "metadata": {
        "id": "vF4AWP9Cq2SV"
      },
      "execution_count": null,
      "outputs": []
    },
    {
      "cell_type": "code",
      "source": [
        "df.to_sql(name=table_name, con=engine, if_exists='replace')"
      ],
      "metadata": {
        "id": "EzBx1ToT9RtX"
      },
      "execution_count": null,
      "outputs": []
    }
  ]
}
